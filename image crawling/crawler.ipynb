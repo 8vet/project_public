{
 "cells": [
  {
   "cell_type": "markdown",
   "metadata": {},
   "source": [
    "# 크롤러\n",
    "\n",
    "- 1. 네이버\n",
    "- 2. 구글\n",
    "- 3. 게티\n",
    "- 4. istock\n",
    "- 5. 다음\n",
    "- 6. 인스타"
   ]
  },
  {
   "cell_type": "code",
   "execution_count": 100,
   "metadata": {},
   "outputs": [],
   "source": [
    "flist = ['비트수프']"
   ]
  },
  {
   "cell_type": "markdown",
   "metadata": {},
   "source": [
    "# 네이버"
   ]
  },
  {
   "cell_type": "code",
   "execution_count": null,
   "metadata": {},
   "outputs": [],
   "source": [
    "from selenium import webdriver\n",
    "import requests\n",
    "import urllib\n",
    "from bs4 import BeautifulSoup\n",
    "import time\n",
    "from urllib.robotparser import RobotFileParser\n",
    "from requests.compat import urlparse, urljoin\n",
    "from requests.exceptions import HTTPError\n",
    "import re\n",
    "from urllib.parse import quote_plus\n",
    "from urllib.request import urlretrieve\n",
    "from selenium.webdriver.common.keys import Keys\n",
    "import os\n",
    "\n",
    "search_words = {\"음식\": flist}\n",
    "\n",
    "value = 0\n",
    "for name in search_words['음식']:\n",
    "    driver = webdriver.Chrome('/Users/Gyu/Desktop/mywork/KData/chromedriver')\n",
    "    driver.get('https://search.naver.com/search.naver?where=image&amp;sm=stb_nmr&amp;')\n",
    "    elem = driver.find_element_by_id('nx_query')\n",
    "    \n",
    "    search_name = name\n",
    "    elem.send_keys(search_name)\n",
    "    elem.submit()\n",
    "    for i in range(1,10):\n",
    "        driver.find_element_by_xpath(\"//body\").send_keys(Keys.END)\n",
    "        time.sleep(5)\n",
    "    time.sleep(5)\n",
    "    html = driver.page_source\n",
    "    soup = BeautifulSoup(html, 'lxml')\n",
    "    \n",
    "    def fetch_list_url():\n",
    "        params=[]\n",
    "        imglist = soup.find_all('img',class_=\"_img\")\n",
    "        for im in imglist:\n",
    "            params.append(im['src'])\n",
    "        return params\n",
    "    def fetch_detail_url():\n",
    "        dir_name = \"./img/\" + search_name + '/'\n",
    "        if not os.path.isdir(dir_name):\n",
    "            os.makedirs(dir_name)\n",
    "        params = fetch_list_url()\n",
    "        a = 1\n",
    "        for p in params:\n",
    "            urllib.request.urlretrieve(p, dir_name + search_name + '1_'+ str(a) + '.jpg')\n",
    "            a = a + 1\n",
    "    fetch_detail_url()\n",
    "driver.close()"
   ]
  },
  {
   "cell_type": "markdown",
   "metadata": {},
   "source": [
    "# 구글"
   ]
  },
  {
   "cell_type": "code",
   "execution_count": 101,
   "metadata": {},
   "outputs": [],
   "source": [
    "from selenium import webdriver\n",
    "from selenium.webdriver.common.keys import Keys\n",
    "import time\n",
    "import urllib\n",
    "driver = webdriver.Chrome('/Users/Gyu/Desktop/mywork/KData/chromedriver')\n",
    "\n",
    "\n",
    "url = 'https://www.google.com/search?q='\n",
    "detail = '&rlz=1C1NDCM_koKR830KR830&sxsrf=ALeKk00o2ZJazOr-YXIu7j7mXvKPAXycUg:1596970790605&source=lnms&tbm=isch&sa=X&ved=2ahUKEwjG88Ll-43rAhXTMd4KHfzIDS4Q_AUoAXoECAwQAw&biw=1920&bih=903'\n",
    "\n",
    "\n",
    "for search_list in flist:\n",
    "    driver.get(url + search_list + detail)\n",
    "    num_of_pagedowns = 60\n",
    "    time.sleep(0.5)\n",
    "    body = driver.find_element_by_tag_name('body')\n",
    "    \n",
    "    while num_of_pagedowns:\n",
    "        body.send_keys(Keys.PAGE_DOWN)\n",
    "        time.sleep(0.5)\n",
    "        num_of_pagedowns -= 1\n",
    "        \n",
    "    for j,_ in enumerate(driver.find_elements_by_css_selector('img[class$=Q4LuWd]')[:500]):\n",
    "        if _.get_attribute('src') !='':\n",
    "            urllib.request.urlretrieve(_.get_attribute('src'),\"./img/\"+search_list+\"/\" + search_list +'2_'+str(j)+'.jpg')\n",
    "                \n",
    "    time.sleep(2)\n",
    "\n",
    "driver.close()"
   ]
  },
  {
   "cell_type": "markdown",
   "metadata": {},
   "source": [
    "# 게티"
   ]
  },
  {
   "cell_type": "code",
   "execution_count": 102,
   "metadata": {},
   "outputs": [],
   "source": [
    "from selenium import webdriver\n",
    "import urllib\n",
    "import time\n",
    "driver = webdriver.Chrome('/Users/Gyu/Desktop/mywork/KData/chromedriver')\n",
    "num=1\n",
    "for search_list in flist:\n",
    "    cumsum = 0\n",
    "    driver.get('https://www.gettyimagesbank.com/s/?lv=&st=union&mi=2&q='+search_list+'&ssi=go#page='+str(num))\n",
    "    while num<10:\n",
    "        num+=1\n",
    "        time.sleep(2)\n",
    "        driver.find_element_by_xpath(\"//body\").send_keys(Keys.END)\n",
    "        if not driver.find_elements_by_css_selector('img[class=imgThumb]'):\n",
    "            continue\n",
    "        k = len(driver.find_elements_by_css_selector('img[class=imgThumb]'))\n",
    "        for j, _ in enumerate(driver.find_elements_by_css_selector('img[class=imgThumb]')):\n",
    "            urllib.request.urlretrieve(_.get_attribute('src'),\"./img/\"+search_list+\"/\" + search_list +'3_'+ str(j+cumsum)+ '.jpg')\n",
    "        cumsum+=k\n",
    "        driver.get('https://www.gettyimagesbank.com/s/?lv=&st=union&mi=2&q='+search_list+'&ssi=go#page'+str(num))\n",
    "driver.close()"
   ]
  },
  {
   "cell_type": "markdown",
   "metadata": {},
   "source": [
    "# istock"
   ]
  },
  {
   "cell_type": "code",
   "execution_count": 104,
   "metadata": {},
   "outputs": [],
   "source": [
    "from selenium import webdriver\n",
    "import urllib\n",
    "import time\n",
    "driver = webdriver.Chrome('/Users/Gyu/Desktop/mywork/KData/chromedriver')\n",
    "for search_list in flist:\n",
    "    num=1\n",
    "    cumsum = 0\n",
    "    driver.get('https://www.istockphoto.com/kr/이미지/'+search_list+'?mediatype=photography&phrase='+search_list+ '&sort=mostpopular&page='+str(num))\n",
    "    while num<10:\n",
    "        body = driver.find_element_by_tag_name('body')\n",
    "        body.send_keys(Keys.END)\n",
    "        time.sleep(2)\n",
    "        num+=1\n",
    "        k = len(driver.find_elements_by_xpath('//figure[@ng-class=\"figureClassNames\"]//img'))\n",
    "        for j, _ in enumerate(driver.find_elements_by_xpath('//figure[@ng-class=\"figureClassNames\"]//img')):\n",
    "            if _.get_attribute('src'):\n",
    "                urllib.request.urlretrieve(_.get_attribute('src'),\"./img/\" + search_list + '/' + search_list +'4_'+ str(j+cumsum)+ '.jpg')\n",
    "        cumsum+=k\n",
    "        driver.get('https://www.istockphoto.com/kr/이미지/'+search_list+'?mediatype=photography&phrase='+search_list+ '&sort=mostpopular&page='+str(num))\n",
    "\n",
    "driver.close()"
   ]
  },
  {
   "cell_type": "markdown",
   "metadata": {},
   "source": [
    "# 다음"
   ]
  },
  {
   "cell_type": "code",
   "execution_count": 105,
   "metadata": {},
   "outputs": [],
   "source": [
    "driver = webdriver.Chrome('/Users/Gyu/Desktop/mywork/KData/chromedriver')\n",
    "\n",
    "\n",
    "url = 'https://search.daum.net/search?w=img&nil_search=btn&DA=NTB&enc=utf8&q='\n",
    "num=2\n",
    "down = 8\n",
    "for search_list in flist:\n",
    "    driver.get(url + search_list)\n",
    "    time.sleep(1)\n",
    "    while num:\n",
    "        num-=1\n",
    "        body = driver.find_element_by_tag_name('body')\n",
    "        time.sleep(2)\n",
    "        while down:\n",
    "            body.send_keys(Keys.END)\n",
    "            time.sleep(0.5)\n",
    "            down-=1\n",
    "            if down%4==0:\n",
    "                driver.find_element_by_xpath('//div[@class=\"extend_comp extend_imgtab\"]//a').click()\n",
    "    for j,_ in enumerate(driver.find_elements_by_css_selector('img[class=thumb_img]')[:500]):\n",
    "        if _.get_attribute('src') !='':\n",
    "            urllib.request.urlretrieve(_.get_attribute('src'),\"./img/\"+search_list+\"/\" + search_list +'5_'+str(j)+'.jpg')\n",
    "                \n",
    "    time.sleep(2)\n",
    "\n",
    "driver.close()"
   ]
  },
  {
   "cell_type": "markdown",
   "metadata": {},
   "source": [
    "# 인스타"
   ]
  },
  {
   "cell_type": "code",
   "execution_count": 96,
   "metadata": {},
   "outputs": [],
   "source": [
    "# driver = webdriver.Chrome('/Users/Gyu/Desktop/mywork/KData/chromedriver')\n",
    "flist = ['비트수프']\n",
    "url = 'https://www.instagram.com/explore/tags/'\n",
    "driver.get(url + flist[0])"
   ]
  },
  {
   "cell_type": "code",
   "execution_count": 98,
   "metadata": {},
   "outputs": [],
   "source": [
    "\n",
    "down=30\n",
    "for search_list in flist:\n",
    "    driver.get(url + search_list)\n",
    "    while down:\n",
    "        down-=1\n",
    "        driver.find_element_by_tag_name('body').send_keys(Keys.END)\n",
    "        time.sleep(1)\n",
    "    time.sleep(4)\n",
    "    for j,_ in enumerate(driver.find_elements_by_xpath('//div[@class=\"KL4Bh\"]//img')):\n",
    "        if _.get_attribute('src') !='':\n",
    "            urllib.request.urlretrieve(_.get_attribute('src'),\"./img/\"+search_list+\"/\" + search_list +'6_'+str(j+39)+'.jpg')\n",
    "                \n",
    "    time.sleep(2)"
   ]
  },
  {
   "cell_type": "code",
   "execution_count": 99,
   "metadata": {},
   "outputs": [],
   "source": [
    "driver.close()"
   ]
  }
 ],
 "metadata": {
  "kernelspec": {
   "display_name": "Python [conda env:py37] *",
   "language": "python",
   "name": "conda-env-py37-py"
  },
  "language_info": {
   "codemirror_mode": {
    "name": "ipython",
    "version": 3
   },
   "file_extension": ".py",
   "mimetype": "text/x-python",
   "name": "python",
   "nbconvert_exporter": "python",
   "pygments_lexer": "ipython3",
   "version": "3.6.9"
  }
 },
 "nbformat": 4,
 "nbformat_minor": 2
}

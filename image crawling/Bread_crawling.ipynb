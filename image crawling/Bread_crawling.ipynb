{
 "cells": [
  {
   "cell_type": "code",
   "execution_count": 2,
   "metadata": {},
   "outputs": [],
   "source": [
    "import requests\n",
    "import urllib\n",
    "from bs4 import BeautifulSoup\n",
    "import time\n",
    "from urllib.robotparser import RobotFileParser\n",
    "from requests.compat import urlparse, urljoin\n",
    "from requests.exceptions import HTTPError\n",
    "import re\n",
    "\n",
    "headers = {'user-agent':\"Mozilla/5.0 (Windows NT 10.0; Win64; x64) AppleWebKit/537.36 (KHTML, like Gecko) Chrome/83.0.4103.116 Safari/537.36\"}\n",
    "\n",
    "def canfetch(url, agent='*', path='/'):\n",
    "    robot = RobotFileParser(urljoin(url, '/robots.txt'))\n",
    "    robot.read()\n",
    "    return robot.can_fetch(agent, urlparse(url)[2])\n",
    "    \n",
    "def download(url, params={}, headers={}, method='GET', limit=3):\n",
    "    method = method.upper()\n",
    "    if canfetch(url) == False:\n",
    "        print('[Error] ' + url)\n",
    "    else: #bot 접근 못하게 막은데있어어 else뺌\n",
    "        try:\n",
    "            resp = requests.request(method, url,\n",
    "                   params=params if method=='GET' else {},\n",
    "                   data=params if method=='POST' else {},\n",
    "                   headers=headers)\n",
    "            resp.raise_for_status()\n",
    "        except HTTPError as e:\n",
    "            if limit > 0 and e.response.status_code >= 500: # 500 에러 재귀 ;너무많은 트래픽 안생기도록\n",
    "                print(limit)\n",
    "                time.sleep(300) # => random, 1초에 1번\n",
    "                resp = download(url, params, headers, method, limit-1)\n",
    "            else:\n",
    "                print('[{}] '.format(e.response.status_code) + url)\n",
    "                print(e.response.status_code)\n",
    "                print(e.response.reason)\n",
    "                print(e.response.headers)\n",
    "    return resp"
   ]
  },
  {
   "cell_type": "markdown",
   "metadata": {},
   "source": [
    "## 다운로드 함수 바꾸기\n",
    "\n",
    "- robots.txt로 접근 가능 여부 판단\n",
    "- error 뜨면 못 가져오니깐 딴거로 고고"
   ]
  },
  {
   "cell_type": "code",
   "execution_count": 12,
   "metadata": {},
   "outputs": [
    {
     "data": {
      "text/plain": [
       "<Response [200]>"
      ]
     },
     "execution_count": 12,
     "metadata": {},
     "output_type": "execute_result"
    }
   ],
   "source": [
    "download('http://xn--hg3bqa693eb6a.com/product/list.html?cate_no=24',headers=headers)"
   ]
  },
  {
   "cell_type": "markdown",
   "metadata": {},
   "source": [
    "# 메인화면꺼만 가져와본거"
   ]
  },
  {
   "cell_type": "code",
   "execution_count": 8,
   "metadata": {},
   "outputs": [],
   "source": [
    "from selenium import webdriver\n",
    "driver = webdriver.Chrome('/Users/Gyu/Desktop/mywork/KData/chromedriver')\n",
    "driver.get('http://xn--hg3bqa693eb6a.com/product/list.html?cate_no=24')\n",
    "\n",
    "page = 1\n",
    "url = 'http://xn--hg3bqa693eb6a.com/product/list.html?cate_no=24&page='\n",
    "driver.get(url+str(page))\n",
    "# driver.execute_script('console.log(\"hi\")')\n",
    "leng = len(driver.find_elements_by_class_name('other'))\n",
    "\n",
    "for r in range(leng+1):    \n",
    "    for i, _ in enumerate(driver.find_elements_by_css_selector('img')):\n",
    "        if _.get_attribute('src').split('/')[4]=='product':\n",
    "            urllib.request.urlretrieve(_.get_attribute('src'),\"./img/\" + str(r) + 'bakery' +str(i)+'.jpg')\n",
    "    if r == leng:\n",
    "        break\n",
    "    page+=1\n",
    "    driver.get(url+str(page))\n",
    "    time.sleep(2)"
   ]
  },
  {
   "cell_type": "markdown",
   "metadata": {},
   "source": [
    "# 상품 세부사진 다 가져오기"
   ]
  },
  {
   "cell_type": "code",
   "execution_count": 9,
   "metadata": {},
   "outputs": [
    {
     "data": {
      "text/plain": [
       "30"
      ]
     },
     "execution_count": 9,
     "metadata": {},
     "output_type": "execute_result"
    }
   ],
   "source": [
    "from selenium import webdriver\n",
    "# driver = webdriver.Chrome('/Users/Gyu/Desktop/mywork/KData/chromedriver')\n",
    "driver.get('http://xn--hg3bqa693eb6a.com/product/list.html?cate_no=24')\n",
    "total= int(driver.find_element_by_css_selector('p[class=prd_count] > strong').text.strip())\n",
    "total\n",
    "# total : 메인 화면에 30개라고 나와있음"
   ]
  },
  {
   "cell_type": "code",
   "execution_count": 11,
   "metadata": {},
   "outputs": [],
   "source": [
    "url = 'http://xn--hg3bqa693eb6a.com/product/%EC%95%BC%EB%AF%B8%EC%9A%94%EB%B0%80-8%E7%84%A1-8%EA%B3%A1-%EC%83%9D%EC%8C%80%EC%8B%9D%EB%B9%B5-%EC%8C%80%EB%B9%B5%EB%B9%84%EA%B1%B4%EB%B9%B5%EB%B9%84%EA%B1%B4%EC%8C%80%EB%B9%B5%EA%B1%B4%EA%B0%95%EB%B9%B5%EB%8B%A4%EC%9D%B4%EC%96%B4%ED%8A%B8%EB%B9%B5%EB%B9%84%EA%B1%B4/69/category/24/display/1/'\n",
    "driver.get(url)\n",
    "\n",
    "for i in range(total):\n",
    "    for j, _ in enumerate(driver.find_elements_by_css_selector('img[class=ThumbImage]')):\n",
    "        urllib.request.urlretrieve(_.get_attribute('src'),\"./img/\"+ 'bread_' +str(i)+ '_' + str(j) + '.jpg')\n",
    "    driver.find_element_by_css_selector('span[class=next] > a').click()\n",
    "    time.sleep(3)  \n",
    "    # 이거 어느 정도 시간을 둬야 사진을 제대로 가져옴"
   ]
  },
  {
   "cell_type": "code",
   "execution_count": 14,
   "metadata": {},
   "outputs": [],
   "source": [
    "driver.close()"
   ]
  },
  {
   "cell_type": "markdown",
   "metadata": {},
   "source": [
    "# pixel 웹사이트에서 사진 가져오기"
   ]
  },
  {
   "cell_type": "markdown",
   "metadata": {},
   "source": [
    "- DB 만들기"
   ]
  },
  {
   "cell_type": "code",
   "execution_count": 1,
   "metadata": {},
   "outputs": [
    {
     "data": {
      "text/plain": [
       "<sqlite3.Cursor at 0x2255b4b7f80>"
      ]
     },
     "execution_count": 1,
     "metadata": {},
     "output_type": "execute_result"
    }
   ],
   "source": [
    "import sqlite3\n",
    "con = sqlite3.connect('food_image.db')\n",
    "cur = con.cursor()\n",
    "\n",
    "cur.executescript('''\n",
    "    DROP TABLE IF EXISTS food_image;\n",
    "    CREATE TABLE food_image(\n",
    "        FOOD_NAME    TEXT,\n",
    "        FOOD_IMAGE    TEXT\n",
    "    );\n",
    "''')"
   ]
  },
  {
   "cell_type": "code",
   "execution_count": 4,
   "metadata": {},
   "outputs": [],
   "source": [
    "import requests\n",
    "from requests import request\n",
    "from requests.compat import urljoin, urlparse\n",
    "from requests.exceptions import HTTPError\n",
    "from urllib.robotparser import RobotFileParser\n",
    "from bs4 import BeautifulSoup\n",
    "from time import sleep"
   ]
  },
  {
   "cell_type": "code",
   "execution_count": 10,
   "metadata": {},
   "outputs": [
    {
     "data": {
      "text/plain": [
       "<Response [403]>"
      ]
     },
     "execution_count": 10,
     "metadata": {},
     "output_type": "execute_result"
    }
   ],
   "source": [
    "from bs4 import BeautifulSoup\n",
    "page = requests.get('https://pixabay.com/images/search/vegan/')\n",
    "soup = BeautifulSoup(page.text, 'html.parser')"
   ]
  },
  {
   "cell_type": "code",
   "execution_count": 11,
   "metadata": {},
   "outputs": [
    {
     "data": {
      "text/plain": [
       "403"
      ]
     },
     "execution_count": 11,
     "metadata": {},
     "output_type": "execute_result"
    }
   ],
   "source": [
    "page.status_code"
   ]
  },
  {
   "cell_type": "code",
   "execution_count": 13,
   "metadata": {},
   "outputs": [
    {
     "data": {
      "text/plain": [
       "[]"
      ]
     },
     "execution_count": 13,
     "metadata": {},
     "output_type": "execute_result"
    }
   ],
   "source": [
    "# print(soup.prettify())\n",
    "soup.find_all(id='item')"
   ]
  },
  {
   "cell_type": "code",
   "execution_count": null,
   "metadata": {},
   "outputs": [],
   "source": [
    "images = soup.findAll('img')\n",
    "for image in images:\n",
    "    #print image source\n",
    "    print image['src']\n",
    "    #print alternate text\n",
    "    print image['alt']"
   ]
  },
  {
   "cell_type": "code",
   "execution_count": null,
   "metadata": {},
   "outputs": [],
   "source": [
    "re.findall(r'([$]\\d+[.]\\d+)', resp.text)"
   ]
  },
  {
   "cell_type": "code",
   "execution_count": 20,
   "metadata": {
    "scrolled": true
   },
   "outputs": [
    {
     "name": "stdout",
     "output_type": "stream",
     "text": [
      "https://cdn.pixabay.com/photo/2017/05/23/22/36/vegetables-2338824__340.jpg\n",
      "https://cdn.pixabay.com/photo/2017/09/16/19/21/salad-2756467__340.jpg\n",
      "https://cdn.pixabay.com/photo/2015/10/02/15/59/olive-oil-968657__340.jpg\n",
      "https://cdn.pixabay.com/photo/2015/12/09/17/11/vegetables-1085063__340.jpg\n",
      "https://cdn.pixabay.com/photo/2018/06/23/16/22/romanesco-3493007__340.jpg\n",
      "https://cdn.pixabay.com/photo/2016/11/06/23/31/breakfast-1804457__340.jpg\n",
      "https://cdn.pixabay.com/photo/2014/12/21/23/39/coconuts-575780__340.png\n",
      "https://cdn.pixabay.com/photo/2017/11/12/19/22/water-2943518__340.jpg\n",
      "https://cdn.pixabay.com/photo/2016/09/12/08/22/breakfast-1663295__340.jpg\n",
      "https://cdn.pixabay.com/photo/2016/10/25/13/16/pumpkin-1768857__340.jpg\n",
      "https://cdn.pixabay.com/photo/2018/09/23/09/31/smoothie-3697014__340.jpg\n",
      "https://cdn.pixabay.com/photo/2017/01/25/18/08/vegetables-2008578__340.png\n",
      "https://cdn.pixabay.com/photo/2017/12/29/16/34/fruit-3048001__340.jpg\n",
      "https://cdn.pixabay.com/photo/2017/07/27/17/30/tray-2546077__340.jpg\n",
      "https://cdn.pixabay.com/photo/2012/06/21/00/48/market-50423__340.jpg\n",
      "https://cdn.pixabay.com/photo/2017/01/12/14/01/broccoli-1974801__340.jpg\n",
      "https://pixabay.com/static/img/blank.gif\n",
      "https://pixabay.com/static/img/blank.gif\n",
      "https://pixabay.com/static/img/blank.gif\n",
      "https://pixabay.com/static/img/blank.gif\n",
      "https://pixabay.com/static/img/blank.gif\n",
      "https://pixabay.com/static/img/blank.gif\n",
      "https://pixabay.com/static/img/blank.gif\n",
      "https://pixabay.com/static/img/blank.gif\n",
      "https://pixabay.com/static/img/blank.gif\n",
      "https://pixabay.com/static/img/blank.gif\n",
      "https://pixabay.com/static/img/blank.gif\n",
      "https://pixabay.com/static/img/blank.gif\n",
      "https://pixabay.com/static/img/blank.gif\n",
      "https://pixabay.com/static/img/blank.gif\n",
      "https://pixabay.com/static/img/blank.gif\n",
      "https://pixabay.com/static/img/blank.gif\n",
      "https://pixabay.com/static/img/blank.gif\n",
      "https://pixabay.com/static/img/blank.gif\n",
      "https://pixabay.com/static/img/blank.gif\n",
      "https://pixabay.com/static/img/blank.gif\n",
      "https://pixabay.com/static/img/blank.gif\n",
      "https://pixabay.com/static/img/blank.gif\n",
      "https://pixabay.com/static/img/blank.gif\n",
      "https://pixabay.com/static/img/blank.gif\n",
      "https://pixabay.com/static/img/blank.gif\n",
      "https://pixabay.com/static/img/blank.gif\n",
      "https://pixabay.com/static/img/blank.gif\n",
      "https://pixabay.com/static/img/blank.gif\n",
      "https://pixabay.com/static/img/blank.gif\n",
      "https://pixabay.com/static/img/blank.gif\n",
      "https://pixabay.com/static/img/blank.gif\n",
      "https://pixabay.com/static/img/blank.gif\n",
      "https://pixabay.com/static/img/blank.gif\n",
      "https://pixabay.com/static/img/blank.gif\n",
      "https://pixabay.com/static/img/blank.gif\n",
      "https://pixabay.com/static/img/blank.gif\n",
      "https://pixabay.com/static/img/blank.gif\n",
      "https://pixabay.com/static/img/blank.gif\n",
      "https://pixabay.com/static/img/blank.gif\n",
      "https://pixabay.com/static/img/blank.gif\n",
      "https://pixabay.com/static/img/blank.gif\n",
      "https://pixabay.com/static/img/blank.gif\n",
      "https://pixabay.com/static/img/blank.gif\n",
      "https://pixabay.com/static/img/blank.gif\n",
      "https://pixabay.com/static/img/blank.gif\n",
      "https://pixabay.com/static/img/blank.gif\n",
      "https://pixabay.com/static/img/blank.gif\n",
      "https://pixabay.com/static/img/blank.gif\n",
      "https://pixabay.com/static/img/blank.gif\n",
      "https://pixabay.com/static/img/blank.gif\n",
      "https://pixabay.com/static/img/blank.gif\n",
      "https://pixabay.com/static/img/blank.gif\n",
      "https://pixabay.com/static/img/blank.gif\n",
      "https://pixabay.com/static/img/blank.gif\n",
      "https://pixabay.com/static/img/blank.gif\n",
      "https://pixabay.com/static/img/blank.gif\n",
      "https://pixabay.com/static/img/blank.gif\n",
      "https://pixabay.com/static/img/blank.gif\n",
      "https://pixabay.com/static/img/blank.gif\n",
      "https://pixabay.com/static/img/blank.gif\n",
      "https://pixabay.com/static/img/blank.gif\n",
      "https://pixabay.com/static/img/blank.gif\n",
      "https://pixabay.com/static/img/blank.gif\n",
      "https://pixabay.com/static/img/blank.gif\n",
      "https://pixabay.com/static/img/blank.gif\n",
      "https://pixabay.com/static/img/blank.gif\n",
      "https://pixabay.com/static/img/blank.gif\n",
      "https://pixabay.com/static/img/blank.gif\n",
      "https://pixabay.com/static/img/blank.gif\n",
      "https://pixabay.com/static/img/blank.gif\n",
      "https://pixabay.com/static/img/blank.gif\n",
      "https://pixabay.com/static/img/blank.gif\n",
      "https://pixabay.com/static/img/blank.gif\n",
      "https://pixabay.com/static/img/blank.gif\n",
      "https://pixabay.com/static/img/blank.gif\n",
      "https://pixabay.com/static/img/blank.gif\n",
      "https://pixabay.com/static/img/blank.gif\n",
      "https://pixabay.com/static/img/blank.gif\n",
      "https://pixabay.com/static/img/blank.gif\n",
      "https://pixabay.com/static/img/blank.gif\n",
      "https://pixabay.com/static/img/blank.gif\n",
      "https://pixabay.com/static/img/blank.gif\n",
      "https://pixabay.com/static/img/blank.gif\n",
      "https://pixabay.com/static/img/blank.gif\n"
     ]
    }
   ],
   "source": [
    "import urllib\n",
    "from selenium import webdriver\n",
    "driver = webdriver.Chrome('/Users/sohyun/Downloads/chromedriver')\n",
    "driver.get('https://pixabay.com/images/search/vegan/')\n",
    "  \n",
    "for i, _ in enumerate(driver.find_elements_by_css_selector('img')):\n",
    "    print(_.get_attribute('src'))\n"
   ]
  },
  {
   "cell_type": "code",
   "execution_count": 21,
   "metadata": {
    "scrolled": true
   },
   "outputs": [
    {
     "ename": "WebDriverException",
     "evalue": "Message: chrome not reachable\n  (Session info: chrome=84.0.4147.105)\n",
     "output_type": "error",
     "traceback": [
      "\u001b[1;31m---------------------------------------------------------------------------\u001b[0m",
      "\u001b[1;31mWebDriverException\u001b[0m                        Traceback (most recent call last)",
      "\u001b[1;32m<ipython-input-21-ad0c9a213c39>\u001b[0m in \u001b[0;36m<module>\u001b[1;34m\u001b[0m\n\u001b[1;32m----> 1\u001b[1;33m \u001b[0mdriver\u001b[0m\u001b[1;33m.\u001b[0m\u001b[0mclose\u001b[0m\u001b[1;33m(\u001b[0m\u001b[1;33m)\u001b[0m\u001b[1;33m\u001b[0m\u001b[1;33m\u001b[0m\u001b[0m\n\u001b[0m",
      "\u001b[1;32m~\\Anaconda3\\lib\\site-packages\\selenium\\webdriver\\remote\\webdriver.py\u001b[0m in \u001b[0;36mclose\u001b[1;34m(self)\u001b[0m\n\u001b[0;32m    686\u001b[0m             \u001b[0mdriver\u001b[0m\u001b[1;33m.\u001b[0m\u001b[0mclose\u001b[0m\u001b[1;33m(\u001b[0m\u001b[1;33m)\u001b[0m\u001b[1;33m\u001b[0m\u001b[1;33m\u001b[0m\u001b[0m\n\u001b[0;32m    687\u001b[0m         \"\"\"\n\u001b[1;32m--> 688\u001b[1;33m         \u001b[0mself\u001b[0m\u001b[1;33m.\u001b[0m\u001b[0mexecute\u001b[0m\u001b[1;33m(\u001b[0m\u001b[0mCommand\u001b[0m\u001b[1;33m.\u001b[0m\u001b[0mCLOSE\u001b[0m\u001b[1;33m)\u001b[0m\u001b[1;33m\u001b[0m\u001b[1;33m\u001b[0m\u001b[0m\n\u001b[0m\u001b[0;32m    689\u001b[0m \u001b[1;33m\u001b[0m\u001b[0m\n\u001b[0;32m    690\u001b[0m     \u001b[1;32mdef\u001b[0m \u001b[0mquit\u001b[0m\u001b[1;33m(\u001b[0m\u001b[0mself\u001b[0m\u001b[1;33m)\u001b[0m\u001b[1;33m:\u001b[0m\u001b[1;33m\u001b[0m\u001b[1;33m\u001b[0m\u001b[0m\n",
      "\u001b[1;32m~\\Anaconda3\\lib\\site-packages\\selenium\\webdriver\\remote\\webdriver.py\u001b[0m in \u001b[0;36mexecute\u001b[1;34m(self, driver_command, params)\u001b[0m\n\u001b[0;32m    319\u001b[0m         \u001b[0mresponse\u001b[0m \u001b[1;33m=\u001b[0m \u001b[0mself\u001b[0m\u001b[1;33m.\u001b[0m\u001b[0mcommand_executor\u001b[0m\u001b[1;33m.\u001b[0m\u001b[0mexecute\u001b[0m\u001b[1;33m(\u001b[0m\u001b[0mdriver_command\u001b[0m\u001b[1;33m,\u001b[0m \u001b[0mparams\u001b[0m\u001b[1;33m)\u001b[0m\u001b[1;33m\u001b[0m\u001b[1;33m\u001b[0m\u001b[0m\n\u001b[0;32m    320\u001b[0m         \u001b[1;32mif\u001b[0m \u001b[0mresponse\u001b[0m\u001b[1;33m:\u001b[0m\u001b[1;33m\u001b[0m\u001b[1;33m\u001b[0m\u001b[0m\n\u001b[1;32m--> 321\u001b[1;33m             \u001b[0mself\u001b[0m\u001b[1;33m.\u001b[0m\u001b[0merror_handler\u001b[0m\u001b[1;33m.\u001b[0m\u001b[0mcheck_response\u001b[0m\u001b[1;33m(\u001b[0m\u001b[0mresponse\u001b[0m\u001b[1;33m)\u001b[0m\u001b[1;33m\u001b[0m\u001b[1;33m\u001b[0m\u001b[0m\n\u001b[0m\u001b[0;32m    322\u001b[0m             response['value'] = self._unwrap_value(\n\u001b[0;32m    323\u001b[0m                 response.get('value', None))\n",
      "\u001b[1;32m~\\Anaconda3\\lib\\site-packages\\selenium\\webdriver\\remote\\errorhandler.py\u001b[0m in \u001b[0;36mcheck_response\u001b[1;34m(self, response)\u001b[0m\n\u001b[0;32m    240\u001b[0m                 \u001b[0malert_text\u001b[0m \u001b[1;33m=\u001b[0m \u001b[0mvalue\u001b[0m\u001b[1;33m[\u001b[0m\u001b[1;34m'alert'\u001b[0m\u001b[1;33m]\u001b[0m\u001b[1;33m.\u001b[0m\u001b[0mget\u001b[0m\u001b[1;33m(\u001b[0m\u001b[1;34m'text'\u001b[0m\u001b[1;33m)\u001b[0m\u001b[1;33m\u001b[0m\u001b[1;33m\u001b[0m\u001b[0m\n\u001b[0;32m    241\u001b[0m             \u001b[1;32mraise\u001b[0m \u001b[0mexception_class\u001b[0m\u001b[1;33m(\u001b[0m\u001b[0mmessage\u001b[0m\u001b[1;33m,\u001b[0m \u001b[0mscreen\u001b[0m\u001b[1;33m,\u001b[0m \u001b[0mstacktrace\u001b[0m\u001b[1;33m,\u001b[0m \u001b[0malert_text\u001b[0m\u001b[1;33m)\u001b[0m\u001b[1;33m\u001b[0m\u001b[1;33m\u001b[0m\u001b[0m\n\u001b[1;32m--> 242\u001b[1;33m         \u001b[1;32mraise\u001b[0m \u001b[0mexception_class\u001b[0m\u001b[1;33m(\u001b[0m\u001b[0mmessage\u001b[0m\u001b[1;33m,\u001b[0m \u001b[0mscreen\u001b[0m\u001b[1;33m,\u001b[0m \u001b[0mstacktrace\u001b[0m\u001b[1;33m)\u001b[0m\u001b[1;33m\u001b[0m\u001b[1;33m\u001b[0m\u001b[0m\n\u001b[0m\u001b[0;32m    243\u001b[0m \u001b[1;33m\u001b[0m\u001b[0m\n\u001b[0;32m    244\u001b[0m     \u001b[1;32mdef\u001b[0m \u001b[0m_value_or_default\u001b[0m\u001b[1;33m(\u001b[0m\u001b[0mself\u001b[0m\u001b[1;33m,\u001b[0m \u001b[0mobj\u001b[0m\u001b[1;33m,\u001b[0m \u001b[0mkey\u001b[0m\u001b[1;33m,\u001b[0m \u001b[0mdefault\u001b[0m\u001b[1;33m)\u001b[0m\u001b[1;33m:\u001b[0m\u001b[1;33m\u001b[0m\u001b[1;33m\u001b[0m\u001b[0m\n",
      "\u001b[1;31mWebDriverException\u001b[0m: Message: chrome not reachable\n  (Session info: chrome=84.0.4147.105)\n"
     ]
    }
   ],
   "source": [
    "driver.close()"
   ]
  },
  {
   "cell_type": "code",
   "execution_count": null,
   "metadata": {},
   "outputs": [],
   "source": []
  }
 ],
 "metadata": {
  "kernelspec": {
   "display_name": "Python 3",
   "language": "python",
   "name": "python3"
  },
  "language_info": {
   "codemirror_mode": {
    "name": "ipython",
    "version": 3
   },
   "file_extension": ".py",
   "mimetype": "text/x-python",
   "name": "python",
   "nbconvert_exporter": "python",
   "pygments_lexer": "ipython3",
   "version": "3.7.3"
  }
 },
 "nbformat": 4,
 "nbformat_minor": 2
}

{
 "cells": [
  {
   "cell_type": "code",
   "execution_count": 13,
   "metadata": {},
   "outputs": [],
   "source": [
    "import requests\n",
    "from bs4 import BeautifulSoup\n",
    "import time\n",
    "from urllib.robotparser import RobotFileParser\n",
    "from requests.compat import urlparse, urljoin\n",
    "from requests.exceptions import HTTPError\n",
    "import re\n",
    "\n",
    "headers = {'user-agent':\"Mozilla/5.0 (Windows NT 10.0; Win64; x64) AppleWebKit/537.36 (KHTML, like Gecko) Chrome/84.0.4147.105 Safari/537.36\"}\n",
    "\n",
    "def canfetch(url, agent='*', path='/'):\n",
    "    robot = RobotFileParser(urljoin(url, '/robots.txt'))\n",
    "    robot.read()\n",
    "    return robot.can_fetch(agent, urlparse(url)[2])\n",
    "    \n",
    "def download(url, params={}, headers={}, method='GET', limit=3):\n",
    "#     method = method.upper()\n",
    "    if canfetch(url) == False:\n",
    "        print('[Error] ' + url)\n",
    "    else: #bot 접근 못하게 막은데있어어 else뺌\n",
    "        try:\n",
    "            resp = requests.request(method, url,\n",
    "                   params=params if method=='GET' else {},\n",
    "                   data=params if method=='POST' else {},\n",
    "                   headers=headers)\n",
    "            resp.raise_for_status()\n",
    "        except HTTPError as e:\n",
    "            if limit > 0 and e.response.status_code >= 500: # 500 에러 재귀 ;너무많은 트래픽 안생기도록\n",
    "                print(limit)\n",
    "                time.sleep(300) # => random, 1초에 1번\n",
    "                resp = download(url, params, headers, method, limit-1)\n",
    "            else:\n",
    "                print('[{}] '.format(e.response.status_code) + url)\n",
    "                print(e.response.status_code)\n",
    "                print(e.response.reason)\n",
    "                print(e.response.headers)\n",
    "    return resp"
   ]
  },
  {
   "cell_type": "code",
   "execution_count": 8,
   "metadata": {},
   "outputs": [
    {
     "data": {
      "text/plain": [
       "<sqlite3.Cursor at 0x2823172c1f0>"
      ]
     },
     "execution_count": 8,
     "metadata": {},
     "output_type": "execute_result"
    }
   ],
   "source": [
    "startrow =1\n",
    "endrow = 1000\n",
    "api_key = 'e8611c2a89e148f8a8f9'\n",
    "url = 'http://openapi.foodsafetykorea.go.kr/api/' + api_key + '/I2790/json/' + str(startrow) + '/' + str(endrow)\n",
    "resp = download(url, headers = headers,method= 'GET')\n",
    "result = resp.json()\n",
    "total = int(result['I2790']['total_count'])\n",
    "de = total%1000\n",
    "\n",
    "import sqlite3\n",
    "con = sqlite3.connect('ex.db')\n",
    "cur = con.cursor()\n",
    "\n",
    "cur.executescript('''\n",
    "    DROP TABLE IF EXISTS factor;\n",
    "    CREATE TABLE factor(\n",
    "        NUM           INTEGER NOT NULL,\n",
    "        DESC_KOR      TEXT NOT NULL ,\n",
    "        FOOD_GROUP    TEXT ,\n",
    "        FOOD_CD      TEXT ,\n",
    "        NUTR_CONT1     FLOAT DEFAULT 0.0,\n",
    "        NUTR_CONT2     FLOAT DEFAULT 0.0,\n",
    "        NUTR_CONT3     FLOAT DEFAULT 0.0,\n",
    "        NUTR_CONT4   FLOAT DEFAULT 0.0,\n",
    "        NUTR_CONT5   FLOAT DEFAULT 0.0,\n",
    "        NUTR_CONT6   FLOAT DEFAULT 0.0,\n",
    "        NUTR_CONT7   FLOAT DEFAULT 0.0,\n",
    "        NUTR_CONT8   FLOAT DEFAULT 0.0,\n",
    "        NUTR_CONT9   FLOAT DEFAULT 0.0,\n",
    "        SERVING_SIZE   INTERGER ,\n",
    "        MAKER_NAME    TEXT ,\n",
    "        BGN_YEAR      TEXT ,\n",
    "        SAMPLING_MONTH_NAME     TEXT ,\n",
    "        SUB_REF_NAME      TEXT,\n",
    "        SAMPLING_REGION_NAME   TEXT ,\n",
    "        GROUP_NAME       TEXT ,\n",
    "        RESEARCH_YEAR INTERGER DEFAULT 0,\n",
    "        SAMPLING_REGION_CD  INTERGER DEFAULT 0,\n",
    "        SAMPLING_MONTH_CD  TEXT ,\n",
    "        ANIMAL_PLANT    TEXT \n",
    "    );\n",
    "''')"
   ]
  },
  {
   "cell_type": "code",
   "execution_count": 9,
   "metadata": {},
   "outputs": [],
   "source": [
    "for _ in result['I2790']['row']:\n",
    "    cur.execute('''INSERT INTO factor(NUM,DESC_KOR ,\n",
    "        FOOD_GROUP ,FOOD_CD ,NUTR_CONT1 ,\n",
    "        NUTR_CONT2, NUTR_CONT3, NUTR_CONT4, NUTR_CONT5,\n",
    "        NUTR_CONT6, NUTR_CONT7,  NUTR_CONT8, NUTR_CONT9,\n",
    "        SERVING_SIZE  ,MAKER_NAME , BGN_YEAR, SAMPLING_MONTH_NAME  ,\n",
    "        SUB_REF_NAME, SAMPLING_REGION_NAME, GROUP_NAME  ,\n",
    "        RESEARCH_YEAR, SAMPLING_REGION_CD ,SAMPLING_MONTH_CD, ANIMAL_PLANT) \n",
    "        VALUES(?,?,?,?,?,?,?,?,?,?,?,?,?,?,?,?,?,?,?,?,?,?,?,?)''',[\n",
    "        _['NUM'],_['DESC_KOR'] ,\n",
    "        _['FOOD_GROUP'] ,_['FOOD_CD'] ,_['NUTR_CONT1'] ,\n",
    "        _['NUTR_CONT2']  ,_['NUTR_CONT3']  ,_['NUTR_CONT4']  , _['NUTR_CONT5'],\n",
    "        _['NUTR_CONT6']   ,_['NUTR_CONT7'],  _['NUTR_CONT8'], _['NUTR_CONT9'],\n",
    "        _['SERVING_SIZE']  ,_['MAKER_NAME'] , _['BGN_YEAR']     ,_['SAMPLING_MONTH_NAME']  ,\n",
    "        _['SUB_REF_NAME'] , _['SAMPLING_REGION_NAME'] , _['GROUP_NAME']  ,\n",
    "        _['RESEARCH_YEAR'] ,_['SAMPLING_REGION_CD'] ,_['SAMPLING_MONTH_CD'],_['ANIMAL_PLANT']])\n",
    "con.commit()"
   ]
  },
  {
   "cell_type": "code",
   "execution_count": 10,
   "metadata": {},
   "outputs": [
    {
     "name": "stdout",
     "output_type": "stream",
     "text": [
      "Count :  0\n",
      "Count :  1\n",
      "Count :  2\n",
      "Count :  3\n",
      "Count :  4\n",
      "Count :  5\n",
      "Count :  6\n",
      "Count :  7\n",
      "Count :  8\n",
      "Count :  9\n",
      "Count :  10\n",
      "Count :  11\n",
      "Count :  12\n",
      "Count :  13\n",
      "Count :  14\n",
      "Count :  15\n",
      "Count :  16\n",
      "Count :  17\n",
      "Count :  18\n",
      "Count :  19\n",
      "Count :  20\n",
      "Count :  21\n",
      "Count :  22\n",
      "Count :  23\n",
      "Count :  24\n",
      "Count :  25\n",
      "Count :  26\n",
      "Count :  27\n",
      "Count :  28\n"
     ]
    }
   ],
   "source": [
    "for i in range(int(total/1000)):\n",
    "    print(\"Count : \",i)\n",
    "    startrow+= 1000\n",
    "    if i==int(total/1000)-1:\n",
    "        endrow += de\n",
    "    else:\n",
    "        endrow += 1000\n",
    "    url = 'http://openapi.foodsafetykorea.go.kr/api/' + api_key + '/I2790/json/' + str(startrow) + '/' + str(endrow)\n",
    "    resp = download(url, headers = headers,method= 'GET')\n",
    "    result = resp.json()\n",
    "    \n",
    "    for _ in result['I2790']['row']:\n",
    "        cur.execute('''INSERT INTO factor(NUM,DESC_KOR  ,\n",
    "            FOOD_GROUP ,FOOD_CD ,NUTR_CONT1 ,\n",
    "            NUTR_CONT2, NUTR_CONT3, NUTR_CONT4, NUTR_CONT5,\n",
    "            NUTR_CONT6, NUTR_CONT7,  NUTR_CONT8, NUTR_CONT9,\n",
    "            SERVING_SIZE  ,MAKER_NAME , BGN_YEAR, SAMPLING_MONTH_NAME  ,\n",
    "            SUB_REF_NAME, SAMPLING_REGION_NAME, GROUP_NAME  ,\n",
    "            RESEARCH_YEAR, SAMPLING_REGION_CD ,SAMPLING_MONTH_CD, ANIMAL_PLANT) \n",
    "            VALUES(?,?,?,?,?,?,?,?,?,?,?,?,?,?,?,?,?,?,?,?,?,?,?,?)''',[\n",
    "            _['NUM'],_['DESC_KOR'] ,\n",
    "            _['FOOD_GROUP'] ,_['FOOD_CD'] ,_['NUTR_CONT1'] ,\n",
    "            _['NUTR_CONT2']  ,_['NUTR_CONT3']  ,_['NUTR_CONT4']  , _['NUTR_CONT5'],\n",
    "            _['NUTR_CONT6']   ,_['NUTR_CONT7'],  _['NUTR_CONT8'], _['NUTR_CONT9'],\n",
    "            _['SERVING_SIZE']  ,_['MAKER_NAME'] , _['BGN_YEAR']     ,_['SAMPLING_MONTH_NAME']  ,\n",
    "            _['SUB_REF_NAME'] , _['SAMPLING_REGION_NAME'] , _['GROUP_NAME']  ,\n",
    "            _['RESEARCH_YEAR'] ,_['SAMPLING_REGION_CD'] ,_['SAMPLING_MONTH_CD'],_['ANIMAL_PLANT']])\n",
    "    time.sleep(1)\n",
    "    con.commit()\n",
    "    time.sleep(1)"
   ]
  },
  {
   "cell_type": "code",
   "execution_count": 11,
   "metadata": {},
   "outputs": [],
   "source": [
    "cur.close()\n",
    "con.close()"
   ]
  },
  {
   "cell_type": "markdown",
   "metadata": {},
   "source": [
    "# 음식 사진 모으기"
   ]
  },
  {
   "cell_type": "markdown",
   "metadata": {},
   "source": [
    "### 대표 사진"
   ]
  },
  {
   "cell_type": "code",
   "execution_count": 44,
   "metadata": {
    "scrolled": true
   },
   "outputs": [],
   "source": [
    "import urllib\n",
    "from selenium import webdriver\n",
    "driver = webdriver.Chrome('/Users/sohyun/Downloads/chromedriver')\n",
    "driver.get('http://xn--hg3bqa693eb6a.com/product/list.html?cate_no=24')\n",
    "\n",
    "page = 1\n",
    "url = 'http://xn--hg3bqa693eb6a.com/product/list.html?cate_no=24&page='\n",
    "driver.get(url+str(page))\n",
    "# driver.execute_script('console.log(\"hi\")')\n",
    "leng = len(driver.find_elements_by_class_name('other'))"
   ]
  },
  {
   "cell_type": "code",
   "execution_count": 45,
   "metadata": {},
   "outputs": [],
   "source": [
    "for r in range(leng+1):    \n",
    "    for i, _ in enumerate(driver.find_elements_by_css_selector('img')):\n",
    "        if _.get_attribute('src').split('/')[4]=='product':\n",
    "            urllib.request.urlretrieve(_.get_attribute('src'),\"./img/\" + str(r) + 'bakery' +str(i)+'.jpg')\n",
    "    if r == leng:\n",
    "        break\n",
    "    page+=1\n",
    "    driver.get(url+str(page))\n",
    "    time.sleep(2)"
   ]
  },
  {
   "cell_type": "code",
   "execution_count": 49,
   "metadata": {},
   "outputs": [],
   "source": [
    "driver.close()"
   ]
  },
  {
   "cell_type": "code",
   "execution_count": 14,
   "metadata": {},
   "outputs": [
    {
     "data": {
      "text/plain": [
       "<Response [200]>"
      ]
     },
     "execution_count": 14,
     "metadata": {},
     "output_type": "execute_result"
    }
   ],
   "source": [
    "download('https://www.panhonesta.com/menu', headers = headers, method='GET')"
   ]
  },
  {
   "cell_type": "markdown",
   "metadata": {},
   "source": [
    "### 작은 이미지 추가"
   ]
  },
  {
   "cell_type": "code",
   "execution_count": 50,
   "metadata": {},
   "outputs": [],
   "source": [
    "import urllib\n",
    "from selenium import webdriver\n",
    "driver = webdriver.Chrome('/Users/sohyun/Downloads/chromedriver')\n",
    "driver.get('http://xn--hg3bqa693eb6a.com/product/%EC%95%BC%EB%AF%B8%EC%9A%94%EB%B0%80-8%E7%84%A1-%ED%98%84%EB%AF%B8-%EC%83%9D%EC%8C%80%EC%8B%9D%EB%B9%B5-%EC%8C%80%EB%B9%B5%EB%B9%84%EA%B1%B4%EB%B9%B5%EB%B9%84%EA%B1%B4%EC%8C%80%EB%B9%B5%EA%B1%B4%EA%B0%95%EB%B9%B5%EB%8B%A4%EC%9D%B4%EC%96%B4%ED%8A%B8%EB%B9%B5%EB%B9%84%EA%B1%B4/29/category/24/display/1/')"
   ]
  },
  {
   "cell_type": "code",
   "execution_count": 51,
   "metadata": {},
   "outputs": [],
   "source": [
    "for i, _ in enumerate(driver.find_elements_by_class_name('ThumbImage')):\n",
    "#     print(_.get_attribute('src'))\n",
    "#     print(_)\n",
    "    urllib.request.urlretrieve(_.get_attribute('src'),\"./img/\" + str(r) + 'bakery' +str(i)+'.jpg')\n"
   ]
  },
  {
   "cell_type": "code",
   "execution_count": 53,
   "metadata": {},
   "outputs": [],
   "source": [
    "driver.close()"
   ]
  },
  {
   "cell_type": "markdown",
   "metadata": {},
   "source": [
    "### 다음 페이지로 넘어가는 기능 추가"
   ]
  },
  {
   "cell_type": "code",
   "execution_count": 1,
   "metadata": {},
   "outputs": [],
   "source": [
    "dic = {}\n",
    "dic [1] = 3"
   ]
  },
  {
   "cell_type": "code",
   "execution_count": 2,
   "metadata": {},
   "outputs": [
    {
     "data": {
      "text/plain": [
       "{1: 3}"
      ]
     },
     "execution_count": 2,
     "metadata": {},
     "output_type": "execute_result"
    }
   ],
   "source": [
    "dic"
   ]
  },
  {
   "cell_type": "code",
   "execution_count": 3,
   "metadata": {},
   "outputs": [],
   "source": [
    "dic[1] = 4"
   ]
  },
  {
   "cell_type": "code",
   "execution_count": 4,
   "metadata": {},
   "outputs": [
    {
     "data": {
      "text/plain": [
       "{1: 4}"
      ]
     },
     "execution_count": 4,
     "metadata": {},
     "output_type": "execute_result"
    }
   ],
   "source": [
    "dic"
   ]
  },
  {
   "cell_type": "code",
   "execution_count": null,
   "metadata": {},
   "outputs": [],
   "source": []
  }
 ],
 "metadata": {
  "kernelspec": {
   "display_name": "Python 3",
   "language": "python",
   "name": "python3"
  },
  "language_info": {
   "codemirror_mode": {
    "name": "ipython",
    "version": 3
   },
   "file_extension": ".py",
   "mimetype": "text/x-python",
   "name": "python",
   "nbconvert_exporter": "python",
   "pygments_lexer": "ipython3",
   "version": "3.7.3"
  }
 },
 "nbformat": 4,
 "nbformat_minor": 2
}
